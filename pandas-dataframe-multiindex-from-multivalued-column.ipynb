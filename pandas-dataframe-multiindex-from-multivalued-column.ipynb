{
 "cells": [
  {
   "cell_type": "code",
   "execution_count": 1,
   "metadata": {
    "collapsed": true
   },
   "outputs": [],
   "source": [
    "import pandas as pd\n",
    "import numpy as np\n",
    "\n",
    "df = pd.read_csv('kafka-consumer-metrics.txt',\n",
    "                 delim_whitespace=True,\n",
    "                 dtype={'value':np.float},\n",
    "                 parse_dates=['when'],\n",
    "                 na_values=['-Infinity'],\n",
    "                 names=\"when consumer metric value\".split())"
   ]
  },
  {
   "cell_type": "code",
   "execution_count": 3,
   "metadata": {},
   "outputs": [
    {
     "name": "stdout",
     "output_type": "stream",
     "text": [
      "<class 'pandas.core.frame.DataFrame'>\n",
      "RangeIndex: 264 entries, 0 to 263\n",
      "Data columns (total 4 columns):\n",
      "when        264 non-null datetime64[ns]\n",
      "consumer    264 non-null object\n",
      "metric      264 non-null object\n",
      "value       264 non-null float64\n",
      "dtypes: datetime64[ns](1), float64(1), object(2)\n",
      "memory usage: 8.3+ KB\n"
     ]
    }
   ],
   "source": [
    "df.info()"
   ]
  },
  {
   "cell_type": "code",
   "execution_count": 5,
   "metadata": {},
   "outputs": [
    {
     "data": {
      "text/html": [
       "<div>\n",
       "<style>\n",
       "    .dataframe thead tr:only-child th {\n",
       "        text-align: right;\n",
       "    }\n",
       "\n",
       "    .dataframe thead th {\n",
       "        text-align: left;\n",
       "    }\n",
       "\n",
       "    .dataframe tbody tr th {\n",
       "        vertical-align: top;\n",
       "    }\n",
       "</style>\n",
       "<table border=\"1\" class=\"dataframe\">\n",
       "  <thead>\n",
       "    <tr style=\"text-align: right;\">\n",
       "      <th></th>\n",
       "      <th>when</th>\n",
       "      <th>consumer</th>\n",
       "      <th>metric</th>\n",
       "      <th>value</th>\n",
       "    </tr>\n",
       "  </thead>\n",
       "  <tbody>\n",
       "    <tr>\n",
       "      <th>257</th>\n",
       "      <td>2018-02-06 12:30:22.780</td>\n",
       "      <td>my-consumer-0</td>\n",
       "      <td>fetch-size-avg</td>\n",
       "      <td>0.000000</td>\n",
       "    </tr>\n",
       "    <tr>\n",
       "      <th>98</th>\n",
       "      <td>2018-02-06 12:27:22.714</td>\n",
       "      <td>my-consumer-3</td>\n",
       "      <td>records-per-request-avg</td>\n",
       "      <td>1598.425101</td>\n",
       "    </tr>\n",
       "    <tr>\n",
       "      <th>234</th>\n",
       "      <td>2018-02-06 12:30:22.780</td>\n",
       "      <td>my-consumer-2</td>\n",
       "      <td>fetch-rate</td>\n",
       "      <td>4.039455</td>\n",
       "    </tr>\n",
       "    <tr>\n",
       "      <th>114</th>\n",
       "      <td>2018-02-06 12:27:22.714</td>\n",
       "      <td>my-consumer-1</td>\n",
       "      <td>fetch-size-avg</td>\n",
       "      <td>638403.090615</td>\n",
       "    </tr>\n",
       "  </tbody>\n",
       "</table>\n",
       "</div>"
      ],
      "text/plain": [
       "                       when       consumer                   metric  \\\n",
       "257 2018-02-06 12:30:22.780  my-consumer-0           fetch-size-avg   \n",
       "98  2018-02-06 12:27:22.714  my-consumer-3  records-per-request-avg   \n",
       "234 2018-02-06 12:30:22.780  my-consumer-2               fetch-rate   \n",
       "114 2018-02-06 12:27:22.714  my-consumer-1           fetch-size-avg   \n",
       "\n",
       "             value  \n",
       "257       0.000000  \n",
       "98     1598.425101  \n",
       "234       4.039455  \n",
       "114  638403.090615  "
      ]
     },
     "execution_count": 5,
     "metadata": {},
     "output_type": "execute_result"
    }
   ],
   "source": [
    "df.sample(4)"
   ]
  },
  {
   "cell_type": "code",
   "execution_count": 6,
   "metadata": {},
   "outputs": [
    {
     "data": {
      "text/plain": [
       "array(['my-consumer-3', 'my-consumer-2', 'my-consumer-1', 'my-consumer-0'], dtype=object)"
      ]
     },
     "execution_count": 6,
     "metadata": {},
     "output_type": "execute_result"
    }
   ],
   "source": [
    "df.consumer.unique()"
   ]
  },
  {
   "cell_type": "markdown",
   "metadata": {},
   "source": [
    "### Multiindex dataframe indexed by `when` and `consumer`\n",
    "we want to create multiindex dataframe where `when` and `consumer` are hierarchical index, `metric` are column name and `value` is their respective values."
   ]
  },
  {
   "cell_type": "code",
   "execution_count": 7,
   "metadata": {
    "collapsed": true
   },
   "outputs": [],
   "source": [
    "df2 = df.groupby(by='consumer').apply(lambda d: d.pivot(index='when', columns='metric', values='value'))"
   ]
  },
  {
   "cell_type": "code",
   "execution_count": 10,
   "metadata": {},
   "outputs": [
    {
     "name": "stdout",
     "output_type": "stream",
     "text": [
      "<class 'pandas.core.frame.DataFrame'>\n",
      "MultiIndex: 24 entries, (my-consumer-0, 2018-02-06 12:25:22.643000) to (my-consumer-3, 2018-02-06 12:30:22.780000)\n",
      "Data columns (total 11 columns):\n",
      "bytes-consumed-rate        24 non-null float64\n",
      "fetch-latency-avg          24 non-null float64\n",
      "fetch-latency-max          24 non-null float64\n",
      "fetch-rate                 24 non-null float64\n",
      "fetch-size-avg             24 non-null float64\n",
      "fetch-size-max             24 non-null float64\n",
      "fetch-throttle-time-avg    24 non-null float64\n",
      "fetch-throttle-time-max    24 non-null float64\n",
      "records-consumed-rate      24 non-null float64\n",
      "records-lag-max            24 non-null float64\n",
      "records-per-request-avg    24 non-null float64\n",
      "dtypes: float64(11)\n",
      "memory usage: 2.3+ KB\n"
     ]
    }
   ],
   "source": [
    "df2.info()"
   ]
  },
  {
   "cell_type": "code",
   "execution_count": 11,
   "metadata": {},
   "outputs": [
    {
     "data": {
      "text/html": [
       "<div>\n",
       "<style>\n",
       "    .dataframe thead tr:only-child th {\n",
       "        text-align: right;\n",
       "    }\n",
       "\n",
       "    .dataframe thead th {\n",
       "        text-align: left;\n",
       "    }\n",
       "\n",
       "    .dataframe tbody tr th {\n",
       "        vertical-align: top;\n",
       "    }\n",
       "</style>\n",
       "<table border=\"1\" class=\"dataframe\">\n",
       "  <thead>\n",
       "    <tr style=\"text-align: right;\">\n",
       "      <th></th>\n",
       "      <th>metric</th>\n",
       "      <th>bytes-consumed-rate</th>\n",
       "      <th>fetch-latency-avg</th>\n",
       "      <th>fetch-latency-max</th>\n",
       "      <th>fetch-rate</th>\n",
       "      <th>fetch-size-avg</th>\n",
       "      <th>fetch-size-max</th>\n",
       "      <th>fetch-throttle-time-avg</th>\n",
       "      <th>fetch-throttle-time-max</th>\n",
       "      <th>records-consumed-rate</th>\n",
       "      <th>records-lag-max</th>\n",
       "      <th>records-per-request-avg</th>\n",
       "    </tr>\n",
       "    <tr>\n",
       "      <th>consumer</th>\n",
       "      <th>when</th>\n",
       "      <th></th>\n",
       "      <th></th>\n",
       "      <th></th>\n",
       "      <th></th>\n",
       "      <th></th>\n",
       "      <th></th>\n",
       "      <th></th>\n",
       "      <th></th>\n",
       "      <th></th>\n",
       "      <th></th>\n",
       "      <th></th>\n",
       "    </tr>\n",
       "  </thead>\n",
       "  <tbody>\n",
       "    <tr>\n",
       "      <th>my-consumer-0</th>\n",
       "      <th>2018-02-06 12:25:22.643</th>\n",
       "      <td>2.251930e+06</td>\n",
       "      <td>230.475352</td>\n",
       "      <td>604.0</td>\n",
       "      <td>8.668844</td>\n",
       "      <td>259756.957746</td>\n",
       "      <td>1033454.0</td>\n",
       "      <td>0.0</td>\n",
       "      <td>0.0</td>\n",
       "      <td>8328.419253</td>\n",
       "      <td>4118.0</td>\n",
       "      <td>960.788732</td>\n",
       "    </tr>\n",
       "    <tr>\n",
       "      <th>my-consumer-2</th>\n",
       "      <th>2018-02-06 12:27:22.714</th>\n",
       "      <td>1.108134e+01</td>\n",
       "      <td>501.810606</td>\n",
       "      <td>503.0</td>\n",
       "      <td>4.018387</td>\n",
       "      <td>2.757576</td>\n",
       "      <td>364.0</td>\n",
       "      <td>0.0</td>\n",
       "      <td>0.0</td>\n",
       "      <td>0.030440</td>\n",
       "      <td>0.0</td>\n",
       "      <td>0.007576</td>\n",
       "    </tr>\n",
       "    <tr>\n",
       "      <th>my-consumer-3</th>\n",
       "      <th>2018-02-06 12:26:22.682</th>\n",
       "      <td>3.952981e+06</td>\n",
       "      <td>254.105691</td>\n",
       "      <td>505.0</td>\n",
       "      <td>7.828661</td>\n",
       "      <td>504922.108000</td>\n",
       "      <td>1045024.0</td>\n",
       "      <td>0.0</td>\n",
       "      <td>0.0</td>\n",
       "      <td>12668.253123</td>\n",
       "      <td>6088112.0</td>\n",
       "      <td>1618.344000</td>\n",
       "    </tr>\n",
       "  </tbody>\n",
       "</table>\n",
       "</div>"
      ],
      "text/plain": [
       "metric                                 bytes-consumed-rate  fetch-latency-avg  \\\n",
       "consumer      when                                                              \n",
       "my-consumer-0 2018-02-06 12:25:22.643         2.251930e+06         230.475352   \n",
       "my-consumer-2 2018-02-06 12:27:22.714         1.108134e+01         501.810606   \n",
       "my-consumer-3 2018-02-06 12:26:22.682         3.952981e+06         254.105691   \n",
       "\n",
       "metric                                 fetch-latency-max  fetch-rate  \\\n",
       "consumer      when                                                     \n",
       "my-consumer-0 2018-02-06 12:25:22.643              604.0    8.668844   \n",
       "my-consumer-2 2018-02-06 12:27:22.714              503.0    4.018387   \n",
       "my-consumer-3 2018-02-06 12:26:22.682              505.0    7.828661   \n",
       "\n",
       "metric                                 fetch-size-avg  fetch-size-max  \\\n",
       "consumer      when                                                      \n",
       "my-consumer-0 2018-02-06 12:25:22.643   259756.957746       1033454.0   \n",
       "my-consumer-2 2018-02-06 12:27:22.714        2.757576           364.0   \n",
       "my-consumer-3 2018-02-06 12:26:22.682   504922.108000       1045024.0   \n",
       "\n",
       "metric                                 fetch-throttle-time-avg  \\\n",
       "consumer      when                                               \n",
       "my-consumer-0 2018-02-06 12:25:22.643                      0.0   \n",
       "my-consumer-2 2018-02-06 12:27:22.714                      0.0   \n",
       "my-consumer-3 2018-02-06 12:26:22.682                      0.0   \n",
       "\n",
       "metric                                 fetch-throttle-time-max  \\\n",
       "consumer      when                                               \n",
       "my-consumer-0 2018-02-06 12:25:22.643                      0.0   \n",
       "my-consumer-2 2018-02-06 12:27:22.714                      0.0   \n",
       "my-consumer-3 2018-02-06 12:26:22.682                      0.0   \n",
       "\n",
       "metric                                 records-consumed-rate  records-lag-max  \\\n",
       "consumer      when                                                              \n",
       "my-consumer-0 2018-02-06 12:25:22.643            8328.419253           4118.0   \n",
       "my-consumer-2 2018-02-06 12:27:22.714               0.030440              0.0   \n",
       "my-consumer-3 2018-02-06 12:26:22.682           12668.253123        6088112.0   \n",
       "\n",
       "metric                                 records-per-request-avg  \n",
       "consumer      when                                              \n",
       "my-consumer-0 2018-02-06 12:25:22.643               960.788732  \n",
       "my-consumer-2 2018-02-06 12:27:22.714                 0.007576  \n",
       "my-consumer-3 2018-02-06 12:26:22.682              1618.344000  "
      ]
     },
     "execution_count": 11,
     "metadata": {},
     "output_type": "execute_result"
    }
   ],
   "source": [
    "df2.sample(3)"
   ]
  },
  {
   "cell_type": "code",
   "execution_count": 12,
   "metadata": {
    "collapsed": true
   },
   "outputs": [],
   "source": [
    "df2.to_csv('kafka-consumer-metrics.grouped.txt')"
   ]
  }
 ],
 "metadata": {
  "kernelspec": {
   "display_name": "Python 2",
   "language": "python",
   "name": "python2"
  },
  "language_info": {
   "codemirror_mode": {
    "name": "ipython",
    "version": 2
   },
   "file_extension": ".py",
   "mimetype": "text/x-python",
   "name": "python",
   "nbconvert_exporter": "python",
   "pygments_lexer": "ipython2",
   "version": "2.7.13"
  }
 },
 "nbformat": 4,
 "nbformat_minor": 2
}
